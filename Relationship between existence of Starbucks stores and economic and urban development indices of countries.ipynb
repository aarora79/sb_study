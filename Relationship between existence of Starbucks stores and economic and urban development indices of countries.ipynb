{
 "cells": [
  {
   "cell_type": "markdown",
   "metadata": {},
   "source": [
    "## Data science project for ANLY-501|Relationship between existence of Starbucks stores and economic and urban development indices of countries."
   ]
  },
  {
   "cell_type": "markdown",
   "metadata": {},
   "source": []
  },
  {
   "cell_type": "markdown",
   "metadata": {},
   "source": [
    ">This notebook provides a project report for the data science project done as part of ANLY-501. The data science project intends to show all stages of the data science pipeline. This notebook facilitates that by organizing different phases into different sections and having the code and visualizations all included in one place. Install Jupyter notebook software available from http://jupyter.org/ to run this notebook."
   ]
  },
  {
   "cell_type": "markdown",
   "metadata": {},
   "source": [
    "### Data Science Problem"
   ]
  },
  {
   "cell_type": "markdown",
   "metadata": {},
   "source": [
    "Starbucks Corporation is an American coffee company and coffeehouse chain with more than 24,000 stores across the world. This projects intends to explore the following data science problems:\n",
    "1. Exploratory Data Analysis (EDA) about Starbucks store locations for example geographical distribution of stores by country, region, ownership model, brand name etc.\n",
    "2. Find a relationship between Starbucks data with various economic and human development indices such as GDP, ease of doing business, rural to urban population ratio, literacy rate, revenue from tourist inflow and so on.\n",
    "3. Predict which countries where Starbucks does not have a store today are most suitable for having Starbucks stores (in other words in which country where Starbucks does not have a presence should Starbucks open its next store and how many)."
   ]
  },
  {
   "cell_type": "markdown",
   "metadata": {},
   "source": [
    "### Potential Analysis that Can Be Conducted Using Collected Data "
   ]
  },
  {
   "cell_type": "markdown",
   "metadata": {},
   "source": [
    "The data to be used as part of this project is obtained from two sources.\n",
    "1. Starbucks store location data is available from https://opendata.socrata.com via an API. The Socrate Open Data API (SODA) end point for this data is https://opendata.socrata.com/resource/xy4y-c4mk.json\n",
    "\n",
    "2. The economic and urban development data for various countries is available from the World Bank(WB) website. WB APIs are described here https://datahelpdesk.worldbank.org/knowledgebase/topics/125589-developer-information. The API end point for all the World Development Indicators (WDI) is http://api.worldbank.org/indicators?format=json. Some examples of indicators being collected include GDP, urban to rural population ratio, % of employed youth (15-24 years), international tourism receipts (as % of total exports), ease of doing business and so on.\n",
    "\n",
    "The possible directions / hypotheses based on collected data (this is not the complete list, would be expanded as the project goes on):\n",
    "1. EDA about Starbucks store locations (for example):\n",
    " - What percentage of stores exists in high income, high literacy, high urban to rural population ratio European countries Vs say high population, rising GDP, low urban to rural population Asian countries.\n",
    " - Distribution of stores across geographies based on type of ownership (franchisee, joint venture etc.), brand name etc.\n",
    " - Which country, which city has the most Starbucks stores per 1000 people.\n",
    " - Is there a Starbucks always open at any UTC time during a 24hour period i.e. you can always find some Starbucks store open time at any given time somewhere in some timezone around the world.\n",
    "\n",
    "2. Data visualization of the Starbucks store data:\n",
    " - World map showing starbucks locations around the world.\n",
    " - Heat map of the world based on the number of Starbucks store in a country.\n",
    " - Frequency distribution of Starbucks store by city in a given country.\n",
    " - Parallel coordinates based visualization for number of stores combined with economic and urban development indicators.\n",
    " \n",
    "3. Machine learning model for predicting number of Starbucks store based on various economic and urban development indicators. This could then be used to predict which countries where Starbucks does not have a presence today would be best suited as new markets.\n",
    " "
   ]
  },
  {
   "cell_type": "markdown",
   "metadata": {},
   "source": [
    "### Data Issues"
   ]
  },
  {
   "cell_type": "markdown",
   "metadata": {},
   "source": [
    "The data used for this project is being obtained via APIs from the socrata web site and the World Bank website and is therefore expected to be relatively error free (for example as compared to the same data being obtained by scraping these websites). Even so, the data is checked for quality and appropriate error handling or even alternate mechanisms are put in place to handle errors/issues with the data.\n",
    "\n",
    "| Issue         | Handling Strategy| \n",
    "| ------------- |-------------| \n",
    "| Some of the city names (for examples cities in China) include UTF-16 characters and would therefore not display correctly in documents and charts.      |  Replace city name with country name _1, _2 and so on, for example CN_1, CN_2 etc.|\n",
    "| Missing data in any of the fields in the Starbucks dataset. | Ignore the data for the location with any missing value. Keep a count of the locations ignored due to missing data to get a sense of the overall quality of data. |\n",
    "| Incorrect format of the value in various fields in the Starbucks dataset. For example Latitude/Longitude values eing out of range, country codes being invalid etc.|  Ignore the data for the location with any missing value. Keep a count of the locations ignored due to missing data to get a sense of the overall quality of data. |\n",
    "| Missing data for any of the indicators in the WB dataset. | The most recent year for which the data is available is 2015, if for a particular indicator the 2015 data is not available then use data for the previous year i.e. 2014. If no data is available for that indicator even for the previous 5 years then flag it as such and have the user define some custom value for it.|\n",
    "| Incorrect format of the value in various fields in the WB dataset. For example alphanumeric or non-numeric data  for fields such as GDP for which numeric values are expected.|  Provide sufficient information to the user (in this case the programmer) about the incorrect data and have the user define correct values.|\n",
    "\n",
    " "
   ]
  }
 ],
 "metadata": {
  "anaconda-cloud": {
   "attach-environment": true,
   "environment": "py3k",
   "summary": "Relationship between existence of Starbucks stores and economic and human development indices of countries ",
   "url": "https://anaconda.org/aa1603/relationship-between-existence-of-starbucks-stores-and-economic-and-urban-development-indices-of-countries"
  },
  "kernelspec": {
   "display_name": "Python [py3k]",
   "language": "python",
   "name": "Python [py3k]"
  },
  "language_info": {
   "codemirror_mode": {
    "name": "ipython",
    "version": 3
   },
   "file_extension": ".py",
   "mimetype": "text/x-python",
   "name": "python",
   "nbconvert_exporter": "python",
   "pygments_lexer": "ipython3",
   "version": "3.5.2"
  }
 },
 "nbformat": 4,
 "nbformat_minor": 0
}
