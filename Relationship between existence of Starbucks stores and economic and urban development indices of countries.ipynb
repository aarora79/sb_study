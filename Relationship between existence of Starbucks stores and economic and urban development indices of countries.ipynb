{
 "cells": [
  {
   "cell_type": "markdown",
   "metadata": {},
   "source": [
    "## Data science project for ANLY-501|Relationship between existence of Starbucks stores and economic and urban development indices of countries."
   ]
  },
  {
   "cell_type": "markdown",
   "metadata": {},
   "source": []
  },
  {
   "cell_type": "markdown",
   "metadata": {},
   "source": [
    ">This notebook provides a project report for the data science project done as part of ANLY-501. The data science project intends to show all stages of the data science pipeline. This notebook facilitates that by organizing different phases into different sections and having the code and visualizations all included in one place. Install Jupyter notebook software available from http://jupyter.org/ to run this notebook.\n",
    ">All code for this project is available on Github as https://github.com/aarora79/sb_study and there is also a simple website associated with it https://aarora79.github.io/sb_study/. The entire code (including the generated output) can be downloaded as a zip file from Github via this URL https://github.com/aarora79/sb_study/archive/master.zip."
   ]
  },
  {
   "cell_type": "markdown",
   "metadata": {},
   "source": [
    "### Data Science Problem"
   ]
  },
  {
   "cell_type": "markdown",
   "metadata": {},
   "source": [
    "Starbucks Corporation is an American coffee company and coffeehouse chain with more than 24,000 stores across the world. This projects intends to explore the following data science problems:\n",
    "1. Exploratory Data Analysis (EDA) about Starbucks store locations for example geographical distribution of stores by country, region, ownership model, brand name etc.\n",
    "2. Find a relationship between Starbucks data with various economic and human development indices such as GDP, ease of doing business, rural to urban population ratio, literacy rate, revenue from tourist inflow and so on.\n",
    "3. Predict which countries where Starbucks does not have a store today are most suitable for having Starbucks stores (in other words in which country where Starbucks does not have a presence should Starbucks open its next store and how many).\n",
    "\n",
    "This problem is important because it attempts to provide a model (using Starbucks as an example) which can be applied to any similar business (say in the food and hospitality industry) to predict where it could expand globally. It provides insight about where the business is located currently by bringing out information like say the total number of stores (48) found in the entire continent of Africa is way less than number of stores (184) found just on U.S. Airports."
   ]
  },
  {
   "cell_type": "markdown",
   "metadata": {},
   "source": [
    "### Potential Analysis that Can Be Conducted Using Collected Data "
   ]
  },
  {
   "cell_type": "markdown",
   "metadata": {},
   "source": [
    "The data used as part of this project is obtained from two sources.\n",
    "1. Starbucks store location data is available from https://opendata.socrata.com via an API. The Socrate Open Data API (SODA) end point for this data is https://opendata.socrata.com/resource/xy4y-c4mk.json\n",
    "\n",
    "2. The economic and urban development data for various countries is available from the World Bank(WB) website. WB APIs are described here https://datahelpdesk.worldbank.org/knowledgebase/topics/125589-developer-information. The API end point for all the World Development Indicators (WDI) is http://api.worldbank.org/indicators?format=json. Some examples of indicators being collected include GDP, urban to rural population ratio, % of employed youth (15-24 years), international tourism receipts (as % of total exports), ease of doing business and so on.\n",
    "\n",
    "The possible directions/hypothesis based on collected data (this is not the complete list, would be expanded as the project goes on):\n",
    "1. EDA about Starbucks store locations (for example):\n",
    " - What percentage of stores exists in high income, high literacy, high urban to rural population ratio European countries Vs say high population, rising GDP, low urban to rural population Asian countries.\n",
    " - Distribution of stores across geographies based on type of ownership (franchisee, joint venture etc.), brand name etc.\n",
    " - Which country, which city has the most Starbucks stores per 1000 people.\n",
    " - Is there a Starbucks always open at any UTC time during a 24hour period i.e. you can always find some Starbucks store open time at any given time somewhere in some timezone around the world.\n",
    "\n",
    "2. Data visualization of the Starbucks store data:\n",
    " - World map showing starbucks locations around the world.\n",
    " - Heat map of the world based on the number of Starbucks store in a country.\n",
    " - Frequency distribution of Starbucks store by city in a given country. Does this distribution resemble any wellll known statistical distribution.\n",
    " - Parallel coordinates based visualization for number of stores combined with economic and urban development indicators.\n",
    " \n",
    "3. Machine learning model for predicting number of Starbucks store based on various economic and urban development indicators. This could then be used to predict which countries where Starbucks does not have a presence today would be best suited as new markets. For example, model the number of Starbucks location in a country based on a) ease of doing business, b) GDP, c) urban to rural population, d) employment rate between people in the 15-24year age group, e) type of government, f) access to 24hour electricity and so on and so forth.\n",
    " "
   ]
  },
  {
   "cell_type": "markdown",
   "metadata": {},
   "source": [
    "### Data Issues"
   ]
  },
  {
   "cell_type": "markdown",
   "metadata": {},
   "source": [
    "The data used for this project is being obtained via APIs from the Socrata web site and the World Bank website and is therefore expected to be relatively error free (for example as compared to the same data being obtained by scraping these websites). Even so, the data is checked for quality and appropriate error handling or even alternate mechanisms are put in place to handle errors/issues with the data.\n",
    "\n",
    "| Issue         | Handling Strategy| \n",
    "| ------------- |-------------| \n",
    "| Some of the city names (for examples cities in China) include UTF-16 characters and would therefore not display correctly in documents and charts.      |  Replace city name with country name _1, _2 and so on, for example CN_1, CN_2 etc.|\n",
    "| Missing data in any of the fields in the Starbucks dataset. | Ignore the data for the location with any mandatory field missing (say country name is missing). Keep a count of the locations ignored due to missing data to get a sense of the overall quality of data. |\n",
    "| Incorrect format of the value in various fields in the Starbucks dataset. For example Latitude/Longitude values being out of range, country codes being invalid etc.|  Ignore the data for the location with any missing value. Keep a count of the locations ignored due to missing data to get a sense of the overall quality of data. |\n",
    "| Misc. data type related errors such as date time field (first_seen field in Starbucks dataset) not being correct, fields considered as primary key not being unique (for example store id for Starbuck dataset, Country code for WB dataset) | Flag all invalid fields as errors. |\n",
    "| Missing data for any of the indicators in the WB dataset. | The most recent year for which the data is available is 2015, if for a particular indicator the 2015 data is not available then use data for the previous year i.e. 2014. If no data is available for that indicator even for the previous 5 years then flag it as such and have the user define some custom value for it.|\n",
    "| Incorrect format of the value in various fields in the WB dataset. For example alphanumeric or non-numeric data  for fields such as GDP for which numeric values are expected.|  Provide sufficient information to the user (in this case the programmer) about the incorrect data and have the user define correct values.|\n",
    "\n",
    "The subsequent sections of this notebook provide a view of the data for the two datasets used in this project and also provide the data quality scores (DQS) for both the datasets."
   ]
  },
  {
   "cell_type": "markdown",
   "metadata": {},
   "source": [
    "# Datasets (Starbucks and WorldBank WDI)"
   ]
  },
  {
   "cell_type": "markdown",
   "metadata": {},
   "source": [
    "The Python code for the SB Study (SBS) is run offline and the results (along with the code) are periodically pushed to Github. The code here simply downloads the files from Github to show the results and how the data looks like."
   ]
  },
  {
   "cell_type": "code",
   "execution_count": null,
   "metadata": {
    "collapsed": false
   },
   "outputs": [],
   "source": [
    "import pandas as pd\n",
    "#get the Starbucks dataset from Github\n",
    "#note that the dataset \n",
    "SB_DATASET_URL = 'https://raw.githubusercontent.com/aarora79/sb_study/master/output/SB_data_as_downloaded.csv'\n",
    "df = pd.read_csv(SB_DATASET_URL)\n",
    "\n",
    "print('Starbucks dataset has %d rows and %d columns ' %(df.shape[0], df.shape[1]))\n",
    "df.head()"
   ]
  },
  {
   "cell_type": "code",
   "execution_count": null,
   "metadata": {
    "collapsed": true
   },
   "outputs": [],
   "source": [
    "import pandas as pd\n",
    "#get the Starbucks dataset from Github\n",
    "#note that the dataset \n",
    "WB_DATASET_URL = 'https://raw.githubusercontent.com/aarora79/sb_study/master/output/WDI_data_as_downloaded.csv'\n",
    "df = pd.read_csv(WB_DATASET_URL)\n",
    "\n",
    "print('Worldbank dataset has %d rows and %d columns ' %(df.shape[0], df.shape[1]))\n",
    "df.head()"
   ]
  },
  {
   "cell_type": "markdown",
   "metadata": {},
   "source": [
    "# Data Quality Scores (DQS)"
   ]
  },
  {
   "cell_type": "markdown",
   "metadata": {},
   "source": [
    "To check for dataquality two types of checks were done on both the datasets.\n",
    "1. **Missing data**: any cell in the dataset which was empty was counted as missing data. This is checked for all features \n",
    "   in both the datasets.\n",
    "2. **Invalid data**: validation checks were done on many (9 fields in the Starbucks dataset, \n",
    "   and all 83 fields in the Worldbank dataset). These checks were both generic (validation for numeric data, \n",
    "   absence of special characters, validation of timestamp data, latitude and longitude validation, timezone offset and \n",
    "   so on and so forth) as well context specific (store-id has to be unique).\n",
    "\n",
    "Two metrices are derived to quantify missing data and invalid data. These are raw score and adjusted score.\n",
    "\n",
    "1. **Raw Score for Missing Data**: this is the percentage of data that is not missing, simply speaking this is the count of non-empty cells Vs total number of cells expressed as a percentage. The higher this score the cleaner the dataset is from the perspective of missing data. This score is available for both Starbucks and WorldBank datasets.\n",
    "\n",
    "2. **Adjusted Raw Score for Missing Data**: this is the percentage of data that is not missing for **Mandatory Features** (i.e. features without which the record would have to be discarded), simply speaking this is the count of non-empty cells in mandatory columns Vs total number of cells expressed as a percentage. In case all features are mandatory then the adjusted raw score and the raw score are the same. The higher this score the cleaner the dataset is from the perspective of missing data. This score is available for both Starbucks and WorldBank datasets. \n",
    "\n",
    "3. **Raw Score for Invalid Data**: this is the percentage of data that is not invalid, simply speaking this is the count of cells containing valid data Vs total number of cells expressed as a percentage. The higher this score the cleaner the dataset is from the perspective of invalid data. Validity checks are both generic and context specific as defined above. This score is available for both Starbucks and WorldBank datasets.\n",
    "\n",
    "3. **Adjusted Score for Invalid Data**: this is the percentage of data that is not invalid for **Mandatory Features** (i.e. features without which the record would have to be discarded), simply speaking this is the count of cells containing valid data in mandatory columns Vs total number of cells expressed as a percentage. The higher this score the cleaner the dataset is from the perspective of invalid data. Validity checks are both generic and context specific as defined above. This score is available for both Starbucks and WorldBank datasets.\n",
    "\n",
    "### Validity checks implemented for Starbucks dataset\n",
    "\n",
    "| Field         | Validity Check| \n",
    "| ------------- |-------------| \n",
    "| Store Id      |  Has to be unique for each row|\n",
    "| Latitude/Longitude|Longitude measurements range from 0° to (+/–)180°, Latitude from -90° to +90°|\n",
    "| Timezone offset| Has to be divisible by 15|\n",
    "| Country code | Has to be present in a country code list downloaded offline|\n",
    "| Brand | Has to be within one of 6 brands listed on Starbucks website http://www.starbucks.com/careers/brands|\n",
    "| Store Number | Has to follow a format XXXX-YYYY|\n",
    "| Timzone name| Has to have either \"Standard Time\" or  \"UTC\" as part of name|\n",
    "| Ownership Type | Should not contain special characters | \n",
    "| First seen | Has to follow a date format |\n",
    "\n",
    "### Validity checks implemented for Worldbank dataset\n",
    "| Field         | Validity Check| \n",
    "| ------------- |-------------| \n",
    "| Country Code      |  Should not contain special characters|\n",
    "| All 83 features (WDIs)| Should be numeric as all of them represent a numerical measure of the feature|\n",
    "\n"
   ]
  },
  {
   "cell_type": "markdown",
   "metadata": {},
   "source": [
    "### DQS for Starbucks and WorldBank datasets\n",
    "The following code fragment downloads a CSV file containing these scores from the Github repo of this project. These scrores have been calculated offline by running the program and uploading the results as part of the Github repo."
   ]
  },
  {
   "cell_type": "code",
   "execution_count": null,
   "metadata": {
    "collapsed": true
   },
   "outputs": [],
   "source": [
    "import pandas as pd\n",
    "DQS_URL = 'https://raw.githubusercontent.com/aarora79/sb_study/master/output/dqs.csv'\n",
    "\n",
    "df = pd.read_csv(DQS_URL)\n",
    "df.head()"
   ]
  },
  {
   "cell_type": "markdown",
   "metadata": {},
   "source": [
    "# Feature Creation\n",
    "Three (for now) new features are created using the datasets. These features are all added to the Starbucks dataset. These are described below:\n",
    "\n",
    "| Feature       | Format| Explanation         |\n",
    "| ------------- |-------------|---------------| \n",
    "| Continent     | String | Map the country code to the continent to which the country belongs. This feature enables answering basic questions like what % of stores exist in Asia as compared to North America for  example. |\n",
    "|On Airport     | Boolean  | Does this store exists on an Airport? This feature helps answer questions like how many of the Starbucks in Europe exists on Airport for example.|\n",
    "|Ease of doing business| Number | The ease of doing business index (obtained from the WorldBank data) for the country in which the store exists. This feature provides insights like around 70% of Starbucks stores exist in countries which have an ease of doing business index between 1 to 10 (with 1 being the highest and 189 being the lowest).|\n"
   ]
  }
 ],
 "metadata": {
  "anaconda-cloud": {
   "attach-environment": true,
   "environment": "py3k",
   "summary": "Relationship between existence of Starbucks stores and economic and human development indices of countries ",
   "url": "https://anaconda.org/aa1603/relationship-between-existence-of-starbucks-stores-and-economic-and-urban-development-indices-of-countries"
  },
  "kernelspec": {
   "display_name": "Python [py3k]",
   "language": "python",
   "name": "Python [py3k]"
  },
  "language_info": {
   "codemirror_mode": {
    "name": "ipython",
    "version": 3
   },
   "file_extension": ".py",
   "mimetype": "text/x-python",
   "name": "python",
   "nbconvert_exporter": "python",
   "pygments_lexer": "ipython3",
   "version": "3.5.2"
  }
 },
 "nbformat": 4,
 "nbformat_minor": 0
}
